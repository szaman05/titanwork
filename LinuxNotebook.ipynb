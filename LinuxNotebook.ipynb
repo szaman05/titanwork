{
  "nbformat": 4,
  "nbformat_minor": 0,
  "metadata": {
    "colab": {
      "provenance": [],
      "authorship_tag": "ABX9TyOkQeR1T9+wzEy9BOog5z0I",
      "include_colab_link": true
    },
    "kernelspec": {
      "name": "python3",
      "display_name": "Python 3"
    },
    "language_info": {
      "name": "python"
    }
  },
  "cells": [
    {
      "cell_type": "markdown",
      "metadata": {
        "id": "view-in-github",
        "colab_type": "text"
      },
      "source": [
        "<a href=\"https://colab.research.google.com/github/szaman05/titanwork/blob/main/LinuxNotebook.ipynb\" target=\"_parent\"><img src=\"https://colab.research.google.com/assets/colab-badge.svg\" alt=\"Open In Colab\"/></a>"
      ]
    },
    {
      "cell_type": "markdown",
      "source": [
        "Changing the default file permission with umask."
      ],
      "metadata": {
        "id": "0KZMEiLPsrsM"
      }
    },
    {
      "cell_type": "code",
      "execution_count": null,
      "metadata": {
        "colab": {
          "base_uri": "https://localhost:8080/"
        },
        "id": "6DU9A6yqsaWC",
        "outputId": "de7f4bb3-c0c7-413d-9702-0efefd8985d2"
      },
      "outputs": [
        {
          "output_type": "stream",
          "name": "stdout",
          "text": [
            "0022\n",
            "hi\n"
          ]
        }
      ],
      "source": [
        "!umask #default umask for root is 0022\n",
        "!echo \"hi\"> js\n",
        "!cat js"
      ]
    },
    {
      "cell_type": "markdown",
      "source": [
        "# find\n",
        "## find in_location -type file_Type condition\n",
        "1. where to find (location)\n",
        "2. What to find (File Type- file, folder)\n",
        "3. Condition (More than 1G, empty, created 1 day ago)\n",
        "\n",
        "\n",
        "\n"
      ],
      "metadata": {
        "id": "6T9A9vmJ2nPI"
      }
    },
    {
      "cell_type": "code",
      "source": [
        "!find . -type f -empty"
      ],
      "metadata": {
        "colab": {
          "base_uri": "https://localhost:8080/"
        },
        "id": "ATSEixvT34_C",
        "outputId": "acf701d6-2216-403e-c433-50cfd24b0200"
      },
      "execution_count": null,
      "outputs": [
        {
          "output_type": "stream",
          "name": "stdout",
          "text": [
            "./.config/config_sentinel\n"
          ]
        }
      ]
    },
    {
      "cell_type": "markdown",
      "source": [
        "#Umask\n",
        "##is used to set the default permissions for the users.\n",
        "*   Default for root 0022\n",
        "*   Default for nomal user 0002\n",
        "\n",
        "##The system default permission fro Directory is 777\n",
        "##The system Default permission for File is 666\n",
        "###so default directory permission for root 777 - 0022= 755\n",
        "### file for root = 666 - 22 =644\n",
        "### directory for normal user: 777 - 2 = 775\n",
        "### file for normal user: 666 - 2 =  \n",
        "\n",
        "\n",
        "\n"
      ],
      "metadata": {
        "id": "85Mgf2o56Mla"
      }
    }
  ]
}